{
 "cells": [
  {
   "cell_type": "markdown",
   "metadata": {},
   "source": [
    "#### Lets Generate data using the random funtion with numpy\n",
    "\n",
    "#### First we specify the mean, standard deviation and then the amount of sample we need our data to have"
   ]
  },
  {
   "cell_type": "code",
   "execution_count": 2,
   "metadata": {},
   "outputs": [],
   "source": [
    "import numpy as np"
   ]
  },
  {
   "cell_type": "code",
   "execution_count": 4,
   "metadata": {},
   "outputs": [],
   "source": [
    "#we are trying to create a dataset with height and weight\n",
    "#we call the np.round to approximate the numbers to 2 decimal places\n",
    "#np.random to generate the random numbers\n",
    "#first value in the random brackets is the mean of the height data, std, no of sample/samplesize\n",
    "#.normal to normalize the data\n",
    "Height = np.round(np.random.normal(1.75, 0.20, 5000),2)\n",
    "Weight = np.round(np.random.normal(60.32, 15, 5000),2)\n"
   ]
  },
  {
   "cell_type": "code",
   "execution_count": 5,
   "metadata": {},
   "outputs": [],
   "source": [
    "#stacking the two columns into a variable CityData\n",
    "CityData = np.column_stack((Height, Weight))"
   ]
  },
  {
   "cell_type": "markdown",
   "metadata": {},
   "source": [
    "#### We just generated data containing 5000 samples of the height and weight of people in a certain city"
   ]
  },
  {
   "cell_type": "code",
   "execution_count": 6,
   "metadata": {},
   "outputs": [
    {
     "data": {
      "text/plain": [
       "array([[ 2.07, 62.46],\n",
       "       [ 2.15, 50.06],\n",
       "       [ 1.82, 54.93],\n",
       "       ...,\n",
       "       [ 1.69, 48.59],\n",
       "       [ 2.18, 62.29],\n",
       "       [ 1.84, 79.87]])"
      ]
     },
     "execution_count": 6,
     "metadata": {},
     "output_type": "execute_result"
    }
   ],
   "source": [
    "CityData"
   ]
  },
  {
   "cell_type": "code",
   "execution_count": null,
   "metadata": {},
   "outputs": [],
   "source": []
  }
 ],
 "metadata": {
  "kernelspec": {
   "display_name": "Python 3",
   "language": "python",
   "name": "python3"
  },
  "language_info": {
   "codemirror_mode": {
    "name": "ipython",
    "version": 3
   },
   "file_extension": ".py",
   "mimetype": "text/x-python",
   "name": "python",
   "nbconvert_exporter": "python",
   "pygments_lexer": "ipython3",
   "version": "3.7.3"
  }
 },
 "nbformat": 4,
 "nbformat_minor": 2
}
